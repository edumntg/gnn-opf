{
 "cells": [
  {
   "cell_type": "code",
   "execution_count": 1,
   "metadata": {},
   "outputs": [],
   "source": [
    "import torch\n",
    "import torch.nn as nn\n",
    "\n",
    "import pandas as pd\n",
    "import numpy as np\n",
    "import matplotlib.pyplot as plt\n",
    "\n",
    "import torch_geometric.nn as tgm_nn\n",
    "from torch.utils.data import Dataset, DataLoader\n"
   ]
  },
  {
   "cell_type": "markdown",
   "metadata": {},
   "source": [
    "## Load data"
   ]
  },
  {
   "cell_type": "code",
   "execution_count": 2,
   "metadata": {},
   "outputs": [
    {
     "data": {
      "text/html": [
       "<div>\n",
       "<style scoped>\n",
       "    .dataframe tbody tr th:only-of-type {\n",
       "        vertical-align: middle;\n",
       "    }\n",
       "\n",
       "    .dataframe tbody tr th {\n",
       "        vertical-align: top;\n",
       "    }\n",
       "\n",
       "    .dataframe thead th {\n",
       "        text-align: right;\n",
       "    }\n",
       "</style>\n",
       "<table border=\"1\" class=\"dataframe\">\n",
       "  <thead>\n",
       "    <tr style=\"text-align: right;\">\n",
       "      <th></th>\n",
       "      <th>0</th>\n",
       "      <th>1</th>\n",
       "      <th>2</th>\n",
       "      <th>3</th>\n",
       "      <th>4</th>\n",
       "      <th>5</th>\n",
       "      <th>6</th>\n",
       "      <th>7</th>\n",
       "      <th>8</th>\n",
       "      <th>9</th>\n",
       "      <th>...</th>\n",
       "      <th>194</th>\n",
       "      <th>195</th>\n",
       "      <th>196</th>\n",
       "      <th>197</th>\n",
       "      <th>198</th>\n",
       "      <th>199</th>\n",
       "      <th>200</th>\n",
       "      <th>201</th>\n",
       "      <th>202</th>\n",
       "      <th>203</th>\n",
       "    </tr>\n",
       "  </thead>\n",
       "  <tbody>\n",
       "    <tr>\n",
       "      <th>0</th>\n",
       "      <td>0.0</td>\n",
       "      <td>0.0</td>\n",
       "      <td>1.04</td>\n",
       "      <td>0.0</td>\n",
       "      <td>0.0</td>\n",
       "      <td>0.0</td>\n",
       "      <td>1.025004</td>\n",
       "      <td>0.382556</td>\n",
       "      <td>0.0</td>\n",
       "      <td>0.0</td>\n",
       "      <td>...</td>\n",
       "      <td>5.588245</td>\n",
       "      <td>0.0</td>\n",
       "      <td>9.78427</td>\n",
       "      <td>-14.936790</td>\n",
       "      <td>1</td>\n",
       "      <td>1</td>\n",
       "      <td>1</td>\n",
       "      <td>1</td>\n",
       "      <td>1</td>\n",
       "      <td>1</td>\n",
       "    </tr>\n",
       "    <tr>\n",
       "      <th>1</th>\n",
       "      <td>0.0</td>\n",
       "      <td>0.0</td>\n",
       "      <td>1.04</td>\n",
       "      <td>0.0</td>\n",
       "      <td>0.0</td>\n",
       "      <td>0.0</td>\n",
       "      <td>1.025000</td>\n",
       "      <td>0.243693</td>\n",
       "      <td>0.0</td>\n",
       "      <td>0.0</td>\n",
       "      <td>...</td>\n",
       "      <td>5.588245</td>\n",
       "      <td>0.0</td>\n",
       "      <td>0.00000</td>\n",
       "      <td>-5.525946</td>\n",
       "      <td>1</td>\n",
       "      <td>1</td>\n",
       "      <td>1</td>\n",
       "      <td>1</td>\n",
       "      <td>1</td>\n",
       "      <td>0</td>\n",
       "    </tr>\n",
       "    <tr>\n",
       "      <th>2</th>\n",
       "      <td>0.0</td>\n",
       "      <td>0.0</td>\n",
       "      <td>1.04</td>\n",
       "      <td>0.0</td>\n",
       "      <td>0.0</td>\n",
       "      <td>0.0</td>\n",
       "      <td>1.025000</td>\n",
       "      <td>0.212868</td>\n",
       "      <td>0.0</td>\n",
       "      <td>0.0</td>\n",
       "      <td>...</td>\n",
       "      <td>5.588245</td>\n",
       "      <td>0.0</td>\n",
       "      <td>9.78427</td>\n",
       "      <td>-14.936790</td>\n",
       "      <td>1</td>\n",
       "      <td>1</td>\n",
       "      <td>1</td>\n",
       "      <td>1</td>\n",
       "      <td>1</td>\n",
       "      <td>1</td>\n",
       "    </tr>\n",
       "    <tr>\n",
       "      <th>3</th>\n",
       "      <td>0.0</td>\n",
       "      <td>0.0</td>\n",
       "      <td>1.04</td>\n",
       "      <td>0.0</td>\n",
       "      <td>0.0</td>\n",
       "      <td>0.0</td>\n",
       "      <td>1.025000</td>\n",
       "      <td>0.527527</td>\n",
       "      <td>0.0</td>\n",
       "      <td>0.0</td>\n",
       "      <td>...</td>\n",
       "      <td>5.588245</td>\n",
       "      <td>0.0</td>\n",
       "      <td>0.00000</td>\n",
       "      <td>-5.525946</td>\n",
       "      <td>1</td>\n",
       "      <td>1</td>\n",
       "      <td>1</td>\n",
       "      <td>1</td>\n",
       "      <td>1</td>\n",
       "      <td>0</td>\n",
       "    </tr>\n",
       "    <tr>\n",
       "      <th>4</th>\n",
       "      <td>0.0</td>\n",
       "      <td>0.0</td>\n",
       "      <td>1.04</td>\n",
       "      <td>0.0</td>\n",
       "      <td>0.0</td>\n",
       "      <td>0.0</td>\n",
       "      <td>1.025000</td>\n",
       "      <td>0.414343</td>\n",
       "      <td>0.0</td>\n",
       "      <td>0.0</td>\n",
       "      <td>...</td>\n",
       "      <td>5.588245</td>\n",
       "      <td>0.0</td>\n",
       "      <td>9.78427</td>\n",
       "      <td>-14.936790</td>\n",
       "      <td>1</td>\n",
       "      <td>1</td>\n",
       "      <td>1</td>\n",
       "      <td>1</td>\n",
       "      <td>1</td>\n",
       "      <td>1</td>\n",
       "    </tr>\n",
       "  </tbody>\n",
       "</table>\n",
       "<p>5 rows × 204 columns</p>\n",
       "</div>"
      ],
      "text/plain": [
       "   0    1     2    3    4    5         6         7    8    9    ...       194  \\\n",
       "0  0.0  0.0  1.04  0.0  0.0  0.0  1.025004  0.382556  0.0  0.0  ...  5.588245   \n",
       "1  0.0  0.0  1.04  0.0  0.0  0.0  1.025000  0.243693  0.0  0.0  ...  5.588245   \n",
       "2  0.0  0.0  1.04  0.0  0.0  0.0  1.025000  0.212868  0.0  0.0  ...  5.588245   \n",
       "3  0.0  0.0  1.04  0.0  0.0  0.0  1.025000  0.527527  0.0  0.0  ...  5.588245   \n",
       "4  0.0  0.0  1.04  0.0  0.0  0.0  1.025000  0.414343  0.0  0.0  ...  5.588245   \n",
       "\n",
       "   195      196        197  198  199  200  201  202  203  \n",
       "0  0.0  9.78427 -14.936790    1    1    1    1    1    1  \n",
       "1  0.0  0.00000  -5.525946    1    1    1    1    1    0  \n",
       "2  0.0  9.78427 -14.936790    1    1    1    1    1    1  \n",
       "3  0.0  0.00000  -5.525946    1    1    1    1    1    0  \n",
       "4  0.0  9.78427 -14.936790    1    1    1    1    1    1  \n",
       "\n",
       "[5 rows x 204 columns]"
      ]
     },
     "execution_count": 2,
     "metadata": {},
     "output_type": "execute_result"
    }
   ],
   "source": [
    "data = pd.read_csv('./data/ieee9iters.csv', header = None)\n",
    "data.head()"
   ]
  },
  {
   "cell_type": "markdown",
   "metadata": {},
   "source": [
    "## Split into train and test"
   ]
  },
  {
   "cell_type": "code",
   "execution_count": 3,
   "metadata": {},
   "outputs": [
    {
     "name": "stdout",
     "output_type": "stream",
     "text": [
      "Training data has 4000 samples\n",
      "Test data has 1000 samples\n"
     ]
    }
   ],
   "source": [
    "data = data.to_numpy()\n",
    "\n",
    "TRAIN_SIZE = 0.8\n",
    "train_num = int(len(data)*TRAIN_SIZE)\n",
    "\n",
    "train_data = torch.tensor(data[:train_num], dtype = torch.float)\n",
    "test_data = torch.tensor(data[train_num:], dtype = torch.float)\n",
    "\n",
    "print(\"Training data has\", len(train_data), \"samples\")\n",
    "print(\"Test data has\", len(test_data), \"samples\")"
   ]
  },
  {
   "cell_type": "markdown",
   "metadata": {},
   "source": [
    "### Because voltages vary between ~0.95 to ~1.05 but angles between ~-3.14 to ~3.14, we normalize these values so all of them range between 0 and 1"
   ]
  },
  {
   "cell_type": "code",
   "execution_count": 6,
   "metadata": {},
   "outputs": [],
   "source": [
    "class IEEE9Dataset(Dataset):\n",
    "    def __init__(self, raw_data):\n",
    "        super().__init__()\n",
    "\n",
    "        self.raw_data = raw_data\n",
    "        self.n_buses = 9\n",
    "\n",
    "        # Parse dataset\n",
    "        data = self.raw_data[:, :4*self.n_buses]\n",
    "        self.Ybuses_real = self.raw_data[:, 4*self.n_buses:(4*self.n_buses + self.n_buses*self.n_buses)]\n",
    "        self.Ybuses_imag = self.raw_data[:, (4*self.n_buses + self.n_buses*self.n_buses):(4*self.n_buses + self.n_buses*self.n_buses + self.n_buses*self.n_buses)]\n",
    "\n",
    "        self.attention = self.raw_data[:, (4*self.n_buses + self.n_buses*self.n_buses + self.n_buses*self.n_buses):]\n",
    "\n",
    "        self.X = torch.zeros(len(raw_data), 2*self.n_buses)\n",
    "        self.y = torch.zeros(len(raw_data), 2)\n",
    "\n",
    "        for n in range(self.n_buses):\n",
    "            P = data[:, 4*n]\n",
    "            Q = data[:, 4*n+1]\n",
    "            V = data[:, 4*n+2]\n",
    "            theta = data[:, 4*n+3]\n",
    "\n",
    "            self.X[:, 2*n] = P\n",
    "            self.X[:, 2*n+1] = Q\n",
    "            self.y[:, 0] = V\n",
    "            self.y[:, 1] = theta\n",
    "\n",
    "        # Normalize\n",
    "        X_norm, X_mean, X_std, y_norm, y_mean, y_std = self.normalize(self.X, self.y)\n",
    "        self.X = X_norm\n",
    "        self.y = y_norm\n",
    "        \n",
    "        self.X_std = X_std\n",
    "        self.X_mean = X_mean\n",
    "        self.y_std = y_std\n",
    "        self.y_mean = y_mean\n",
    "\n",
    "    def normalize(self, X, y):\n",
    "        X_std = torch.std(X, dim = 0)\n",
    "        y_std = torch.std(y, dim = 0)\n",
    "\n",
    "        X_mean = torch.mean(X, dim = 0)\n",
    "        y_mean = torch.mean(y, dim = 0)\n",
    "\n",
    "        X_norm = (X - X_mean)/X_std\n",
    "        y_norm = (y - y_mean)/y_std\n",
    "\n",
    "        X_norm = torch.where(torch.isnan(X_norm), torch.zeros_like(X_norm), X_norm)\n",
    "        y_norm = torch.where(torch.isnan(y_norm), torch.zeros_like(y_norm), y_norm)\n",
    "\n",
    "        return X_norm, X_mean, X_std, y_norm, y_mean, y_std\n",
    "\n",
    "    def __len__(self):\n",
    "        return len(self.raw_data)\n",
    "    \n",
    "    def __getitem__(self, index):\n",
    "        return self.X[index,:], self.y[index, :], torch.complex(torch.tensor(self.Ybuses_real[index,:]), torch.tensor(self.Ybuses_imag[index,:])), self.attention[index,:]"
   ]
  },
  {
   "cell_type": "code",
   "execution_count": 7,
   "metadata": {},
   "outputs": [
    {
     "name": "stdout",
     "output_type": "stream",
     "text": [
      "torch.Size([18]) torch.Size([2]) torch.Size([81]) torch.Size([6])\n",
      "tensor([ 0.0000,  0.0000,  0.0000,  0.0000,  0.0000,  0.0000,  0.0000,  0.0000,\n",
      "        -1.3755, -1.3755,  1.1720,  1.1720,  0.0000,  0.0000, -0.2686, -0.2686,\n",
      "         0.0000,  0.0000]) tensor([ 0.5058, -0.1751])\n"
     ]
    },
    {
     "name": "stderr",
     "output_type": "stream",
     "text": [
      "C:\\Users\\Eduardo Trabajo\\AppData\\Local\\Temp\\ipykernel_25252\\957195010.py:58: UserWarning: To copy construct from a tensor, it is recommended to use sourceTensor.clone().detach() or sourceTensor.clone().detach().requires_grad_(True), rather than torch.tensor(sourceTensor).\n",
      "  return self.X[index,:], self.y[index, :], torch.complex(torch.tensor(self.Ybuses_real[index,:]), torch.tensor(self.Ybuses_imag[index,:])), self.attention[index,:]\n"
     ]
    }
   ],
   "source": [
    "train_dataset = IEEE9Dataset(train_data)\n",
    "test_dataset = IEEE9Dataset(test_data)\n",
    "X, y, Ybus, attention = train_dataset[0]\n",
    "print(X.shape, y.shape, Ybus.shape, attention.shape)\n",
    "print(X, y)"
   ]
  },
  {
   "cell_type": "markdown",
   "metadata": {},
   "source": [
    "## Create DataLoaders"
   ]
  },
  {
   "cell_type": "code",
   "execution_count": 8,
   "metadata": {},
   "outputs": [],
   "source": [
    "train_loader = DataLoader(\n",
    "    dataset = train_dataset,\n",
    "    batch_size=32,\n",
    "    shuffle = True,\n",
    "    drop_last = True\n",
    ")\n",
    "\n",
    "test_loader = DataLoader(\n",
    "    dataset = test_dataset,\n",
    "    batch_size = 32,\n",
    "    shuffle = False,\n",
    "    drop_last = True\n",
    ")"
   ]
  },
  {
   "cell_type": "markdown",
   "metadata": {},
   "source": [
    "## Create GNN Model"
   ]
  },
  {
   "cell_type": "code",
   "execution_count": 25,
   "metadata": {},
   "outputs": [],
   "source": [
    "class NN(nn.Module):\n",
    "    def __init__(self, n_buses = 9):\n",
    "        super(NN, self).__init__()\n",
    "\n",
    "        self.Ybus_real_fc = nn.LazyLinear(64)\n",
    "        self.Ybus_imag_fc = nn.LazyLinear(64)\n",
    "\n",
    "        self.Ybus_real_dropout = nn.Dropout(0.1)\n",
    "        self.Ybus_imag_dropout = nn.Dropout(0.1)\n",
    "\n",
    "        self.wq = nn.LazyLinear(64)\n",
    "        self.wk = nn.LazyLinear(64)\n",
    "        self.wv = nn.LazyLinear(64)\n",
    "\n",
    "        self.wq_r = nn.LazyLinear(64)\n",
    "        self.wk_r = nn.LazyLinear(64)\n",
    "        self.wv_r = nn.LazyLinear(64)\n",
    "\n",
    "        self.wq_i = nn.LazyLinear(64)\n",
    "        self.wk_i = nn.LazyLinear(64)\n",
    "        self.wv_i = nn.LazyLinear(64)\n",
    "\n",
    "        self.attn_dropout = nn.Dropout(0.1)\n",
    "        self.attn_proj = nn.LazyLinear(64)\n",
    "\n",
    "        self.fc1 = nn.Linear(2*n_buses, 64)\n",
    "        self.fc2 = nn.Linear(64, 32)\n",
    "        self.fc3 = nn.Linear(32, 2)\n",
    "\n",
    "    def forward(self, x, Ybus, attention):\n",
    "        B, F = x.shape\n",
    "        # Split Ybus into real and imag, and flatten it\n",
    "        Ybus_real = torch.real(Ybus).to(torch.float)\n",
    "        Ybus_imag = torch.imag(Ybus).to(torch.float)\n",
    "\n",
    "        #Y_weights = Ybus_real@Ybus_imag.T\n",
    "        #print(Y_weights.shape)\n",
    "        \n",
    "        #Ybus_out1 = self.Ybus_real_fc(Ybus_real)\n",
    "        #Ybus_out1 = self.Ybus_real_dropout(Ybus_out1)\n",
    "\n",
    "        #Ybus_out2 = self.Ybus_imag_fc(Ybus_imag)\n",
    "        #Ybus_out2 = self.Ybus_imag_dropout(Ybus_out2)\n",
    "\n",
    "        Q, K, V = self.wq(attention), self.wk(attention), self.wv(attention) # 32x64\n",
    "        attn_scores = Q@K.T # 32x32\n",
    "\n",
    "        d_k = K.shape[-1]\n",
    "\n",
    "        attn_weights = torch.softmax(attn_scores / d_k**0.5, dim = -1) # 32x32\n",
    "        attn_weights = self.attn_dropout(attn_weights) # 32x32\n",
    "\n",
    "        attn_weights = attn_weights @ V # 32x32 * 32x64 = 32x64\n",
    "\n",
    "        attn_proj = self.attn_proj(attn_weights)\n",
    "\n",
    "        ##################################################\n",
    "\n",
    "        Q_r, K_r, V_r = self.wq_r(Ybus_real), self.wk_r(Ybus_real), self.wv_r(Ybus_real) # 32x64\n",
    "        attn_scores_r = Q_r@K_r.T # 32x32\n",
    "\n",
    "        d_k_r = K_r.shape[-1]\n",
    "\n",
    "        attn_weights_r = torch.softmax(attn_scores_r / d_k_r**0.5, dim = -1) # 32x32\n",
    "        attn_weights_r = self.Ybus_real_dropout(attn_weights_r) # 32x32\n",
    "\n",
    "        attn_weights_r = attn_weights_r @ V_r # 32x32 * 32x64 = 32x64\n",
    "        attn_proj_r = self.Ybus_real_fc(attn_weights_r)\n",
    "\n",
    "        ###################################################################\n",
    "\n",
    "        Q_i, K_i, V_i = self.wq_i(Ybus_imag), self.wk_i(Ybus_imag), self.wv_i(Ybus_imag) # 32x64\n",
    "        attn_scores_i = Q_i@K_i.T # 32x32\n",
    "\n",
    "        d_k_i = K_i.shape[-1]\n",
    "\n",
    "        attn_weights_i = torch.softmax(attn_scores_i / d_k_i**0.5, dim = -1) # 32x32\n",
    "        attn_weights_i = self.Ybus_imag_dropout(attn_weights_i) # 32x32\n",
    "\n",
    "        attn_weights_i = attn_weights_i @ V_i # 32x32 * 32x64 = 32x64\n",
    "\n",
    "        attn_proj_i = self.Ybus_imag_fc(attn_weights_i)\n",
    "\n",
    "        #attention_out = self.attention(attention)\n",
    "\n",
    "        x = nn.functional.relu(self.fc1(x)) + attn_proj_r + attn_proj_i + attn_proj\n",
    "        #x = nn.functional.relu(self.fc1(x)) + attn_proj\n",
    "        x = nn.functional.relu(self.fc2(x))\n",
    "        return self.fc3(x)"
   ]
  },
  {
   "cell_type": "markdown",
   "metadata": {},
   "source": [
    "## Test model"
   ]
  },
  {
   "cell_type": "code",
   "execution_count": 26,
   "metadata": {},
   "outputs": [
    {
     "name": "stdout",
     "output_type": "stream",
     "text": [
      "torch.Size([32, 2])\n"
     ]
    },
    {
     "name": "stderr",
     "output_type": "stream",
     "text": [
      "C:\\Users\\Eduardo Trabajo\\AppData\\Local\\Temp\\ipykernel_25252\\957195010.py:58: UserWarning: To copy construct from a tensor, it is recommended to use sourceTensor.clone().detach() or sourceTensor.clone().detach().requires_grad_(True), rather than torch.tensor(sourceTensor).\n",
      "  return self.X[index,:], self.y[index, :], torch.complex(torch.tensor(self.Ybuses_real[index,:]), torch.tensor(self.Ybuses_imag[index,:])), self.attention[index,:]\n"
     ]
    }
   ],
   "source": [
    "model = NN()\n",
    "X_batch, y_batch, Ybus_batch, attention = next(iter(train_loader))\n",
    "X_batch = X_batch.to(torch.float)\n",
    "y_batch = y_batch.to(torch.float)\n",
    "attention = attention.to(torch.float)\n",
    "out = model(X_batch, Ybus_batch, attention)\n",
    "print(out.shape)"
   ]
  },
  {
   "cell_type": "markdown",
   "metadata": {},
   "source": [
    "## Train Model"
   ]
  },
  {
   "cell_type": "code",
   "execution_count": 35,
   "metadata": {},
   "outputs": [
    {
     "name": "stderr",
     "output_type": "stream",
     "text": [
      "C:\\Users\\Eduardo Trabajo\\AppData\\Local\\Temp\\ipykernel_25252\\957195010.py:58: UserWarning: To copy construct from a tensor, it is recommended to use sourceTensor.clone().detach() or sourceTensor.clone().detach().requires_grad_(True), rather than torch.tensor(sourceTensor).\n",
      "  return self.X[index,:], self.y[index, :], torch.complex(torch.tensor(self.Ybuses_real[index,:]), torch.tensor(self.Ybuses_imag[index,:])), self.attention[index,:]\n"
     ]
    },
    {
     "name": "stdout",
     "output_type": "stream",
     "text": [
      "Epoch: 1, loss: 0.052193577989935874, val_loss = 0.04739777221074028\n",
      "Epoch: 2, loss: 0.05666780580580234, val_loss = 0.04722936679759333\n",
      "Epoch: 3, loss: 0.04841906282305718, val_loss = 0.04292234868532227\n",
      "Epoch: 4, loss: 0.049387585543096066, val_loss = 0.044368078992251425\n",
      "Epoch: 5, loss: 0.045836291410028936, val_loss = 0.045590554033556295\n",
      "Epoch: 6, loss: 0.06894020158052444, val_loss = 0.04426284795326571\n",
      "Epoch: 7, loss: 0.043452438369393345, val_loss = 0.041801657377471844\n",
      "Epoch: 8, loss: 0.05355330613255501, val_loss = 0.04318722926320568\n",
      "Epoch: 9, loss: 0.04826952044665814, val_loss = 0.05086951780944101\n",
      "Epoch: 10, loss: 0.04675424759089947, val_loss = 0.04122327959104892\n",
      "Epoch: 11, loss: 0.04715823531150818, val_loss = 0.04371522967853854\n",
      "Epoch: 12, loss: 0.043327218636870383, val_loss = 0.048148541921569456\n",
      "Epoch: 13, loss: 0.04570654252916574, val_loss = 0.043224905767748435\n",
      "Epoch: 14, loss: 0.04094258362054825, val_loss = 0.03969758953298292\n",
      "Epoch: 15, loss: 0.03682897222787142, val_loss = 0.037730312034968405\n",
      "Epoch: 16, loss: 0.049672121062874795, val_loss = 0.058285908713456125\n",
      "Epoch: 17, loss: 0.04391076318919659, val_loss = 0.04352289119795445\n",
      "Epoch: 18, loss: 0.043587125830352305, val_loss = 0.039661146880638216\n",
      "Epoch: 19, loss: 0.058681441947817804, val_loss = 0.036549264655238195\n",
      "Epoch: 20, loss: 0.0497460682541132, val_loss = 0.03959320728937464\n",
      "Epoch: 21, loss: 0.03991077917814255, val_loss = 0.041342800843619534\n",
      "Epoch: 22, loss: 0.04988149121403694, val_loss = 0.045111158562283364\n",
      "Epoch: 23, loss: 0.04078900350630283, val_loss = 0.036463251878176964\n",
      "Epoch: 24, loss: 0.037710322260856625, val_loss = 0.03923090270930721\n",
      "Epoch: 25, loss: 0.03809876558929682, val_loss = 0.036611371974070224\n",
      "Epoch: 26, loss: 0.03938262750208378, val_loss = 0.039173305335064086\n",
      "Epoch: 27, loss: 0.03540540527552366, val_loss = 0.03861582062898144\n",
      "Epoch: 28, loss: 0.041587965190410615, val_loss = 0.040482510061513995\n",
      "Epoch: 29, loss: 0.0380423409640789, val_loss = 0.03602717261040403\n",
      "Epoch: 30, loss: 0.04433027266710997, val_loss = 0.03283373792205126\n",
      "Epoch: 31, loss: 0.035506288461387155, val_loss = 0.03657626652068669\n",
      "Epoch: 32, loss: 0.04035012570023537, val_loss = 0.035329010037164536\n",
      "Epoch: 33, loss: 0.06676697283238173, val_loss = 0.03684647423365424\n",
      "Epoch: 34, loss: 0.036981759391725065, val_loss = 0.03403890120886987\n",
      "Epoch: 35, loss: 0.0362219772785902, val_loss = 0.03454895903386416\n",
      "Epoch: 36, loss: 0.033574029617011544, val_loss = 0.03358262600076775\n",
      "Epoch: 37, loss: 0.03502433468401432, val_loss = 0.03283997042284858\n",
      "Epoch: 38, loss: 0.03661985532194376, val_loss = 0.03262422639395921\n",
      "Epoch: 39, loss: 0.03771997816115618, val_loss = 0.03152008231488928\n",
      "Epoch: 40, loss: 0.0370200108140707, val_loss = 0.03268897554446613\n",
      "Epoch: 41, loss: 0.043577799253165725, val_loss = 0.030309604540947947\n",
      "Epoch: 42, loss: 0.031470341756939885, val_loss = 0.0301068423375968\n",
      "Epoch: 43, loss: 0.036246507238596674, val_loss = 0.028310195392658635\n",
      "Epoch: 44, loss: 0.03343460649251938, val_loss = 0.027669311080488465\n",
      "Epoch: 45, loss: 0.03432890778779984, val_loss = 0.027776230487131303\n",
      "Epoch: 46, loss: 0.04040990200638771, val_loss = 0.027548414324560472\n",
      "Epoch: 47, loss: 0.034231278367340565, val_loss = 0.027293167257260893\n",
      "Epoch: 48, loss: 0.04077087040245533, val_loss = 0.02980349813738177\n",
      "Epoch: 49, loss: 0.03550405033677816, val_loss = 0.03638202919354362\n",
      "Epoch: 50, loss: 0.03698209648579359, val_loss = 0.026504283740876183\n",
      "Epoch: 51, loss: 0.02861158040910959, val_loss = 0.027668956036288894\n",
      "Epoch: 52, loss: 0.03387354857474566, val_loss = 0.027674689888954163\n",
      "Epoch: 53, loss: 0.02962905503064394, val_loss = 0.025624923768543428\n",
      "Epoch: 54, loss: 0.02928674729168415, val_loss = 0.02628138916747224\n",
      "Epoch: 55, loss: 0.030401397906243802, val_loss = 0.022944043180154215\n",
      "Epoch: 56, loss: 0.03181617391854524, val_loss = 0.024019162290759625\n",
      "Epoch: 57, loss: 0.033965314492583276, val_loss = 0.026149547268306057\n",
      "Epoch: 58, loss: 0.029656988069415094, val_loss = 0.022998463272327376\n",
      "Epoch: 59, loss: 0.030647629112005234, val_loss = 0.02540994588766367\n",
      "Epoch: 60, loss: 0.030415637537837027, val_loss = 0.023258647130381678\n",
      "Epoch: 61, loss: 0.041056835897266865, val_loss = 0.025864399038255215\n",
      "Epoch: 62, loss: 0.027222829408943654, val_loss = 0.024407891136023305\n",
      "Epoch: 63, loss: 0.032043112255632875, val_loss = 0.02311540461115299\n",
      "Epoch: 64, loss: 0.030204564929008484, val_loss = 0.021072423746508938\n",
      "Epoch: 65, loss: 0.02886324090510607, val_loss = 0.01976535784741563\n",
      "Epoch: 66, loss: 0.04845763437822461, val_loss = 0.021674872165726077\n",
      "Epoch: 67, loss: 0.030701089911162854, val_loss = 0.01995147653524914\n",
      "Epoch: 68, loss: 0.024378556154668333, val_loss = 0.019299709117941318\n",
      "Epoch: 69, loss: 0.02688686539232731, val_loss = 0.0226591368686528\n",
      "Epoch: 70, loss: 0.03239017201960087, val_loss = 0.02088988506265225\n",
      "Epoch: 71, loss: 0.02723035567253828, val_loss = 0.018080029231045517\n",
      "Epoch: 72, loss: 0.02833040491491556, val_loss = 0.018588026985526085\n",
      "Epoch: 73, loss: 0.02475560013577342, val_loss = 0.017278428534947095\n",
      "Epoch: 74, loss: 0.02887495892494917, val_loss = 0.01839161590642987\n",
      "Epoch: 75, loss: 0.022424160946160555, val_loss = 0.017593028744862925\n",
      "Epoch: 76, loss: 0.02383805851638317, val_loss = 0.019085237335774205\n",
      "Epoch: 77, loss: 0.02109330800175667, val_loss = 0.018122586061156565\n",
      "Epoch: 78, loss: 0.025329127304255964, val_loss = 0.017862985301161965\n",
      "Epoch: 79, loss: 0.0288038624599576, val_loss = 0.0179794606632523\n",
      "Epoch: 80, loss: 0.023335424400866032, val_loss = 0.01616101760056711\n",
      "Epoch: 81, loss: 0.02706186644732952, val_loss = 0.015242588420909258\n",
      "Epoch: 82, loss: 0.021535555671900512, val_loss = 0.014808087549622982\n",
      "Epoch: 83, loss: 0.028899225752800704, val_loss = 0.016250151630130508\n",
      "Epoch: 84, loss: 0.0205554401576519, val_loss = 0.015474778660122425\n",
      "Epoch: 85, loss: 0.025760734137147665, val_loss = 0.01670617709356931\n",
      "Epoch: 86, loss: 0.02072206647694111, val_loss = 0.01770488485213249\n",
      "Epoch: 87, loss: 0.02646152900159359, val_loss = 0.014977649590300937\n",
      "Epoch: 88, loss: 0.029884321231395006, val_loss = 0.025917796988881404\n",
      "Epoch: 89, loss: 0.027019181340932848, val_loss = 0.017794431833129738\n",
      "Epoch: 90, loss: 0.022422956224530936, val_loss = 0.01564922834175729\n",
      "Epoch: 91, loss: 0.021499428424984215, val_loss = 0.012471637748662502\n",
      "Epoch: 92, loss: 0.01825111824646592, val_loss = 0.012785370656920056\n",
      "Epoch: 93, loss: 0.018667617689818145, val_loss = 0.012540095605917515\n",
      "Epoch: 94, loss: 0.0285526145324111, val_loss = 0.01346199363169651\n",
      "Epoch: 95, loss: 0.023672584626823662, val_loss = 0.012016855300434174\n",
      "Epoch: 96, loss: 0.01795902505517006, val_loss = 0.012078698198761671\n",
      "Epoch: 97, loss: 0.015810895189642907, val_loss = 0.013016771419995254\n",
      "Epoch: 98, loss: 0.016884955313056706, val_loss = 0.012563551280407174\n",
      "Epoch: 99, loss: 0.019067034848034382, val_loss = 0.015295917138216956\n",
      "Epoch: 100, loss: 0.01918751122802496, val_loss = 0.011275708314872557\n"
     ]
    }
   ],
   "source": [
    "criterion = nn.MSELoss()\n",
    "optimizer = torch.optim.Adam(model.parameters(), lr = 1e-4)\n",
    "\n",
    "EPOCHS = 100\n",
    "losses = []\n",
    "val_losses = []\n",
    "for epoch in range(1, EPOCHS+1):\n",
    "    epoch_loss = 0.0\n",
    "    model.train()\n",
    "    for batch_idx, (X, y, Ybus, attention) in enumerate(train_loader):\n",
    "        X = X.to(torch.float)\n",
    "        y = y.to(torch.float)\n",
    "        attention = attention.to(torch.float)\n",
    "\n",
    "        pred = model(X, Ybus, attention)\n",
    "\n",
    "        optimizer.zero_grad()\n",
    "        loss = criterion(pred, y)\n",
    "        loss.backward()\n",
    "        optimizer.step()\n",
    "\n",
    "        epoch_loss += loss.item()\n",
    "\n",
    "    epoch_loss /= len(train_loader)\n",
    "    losses.append(epoch_loss)\n",
    "\n",
    "    model.eval()\n",
    "    epoch_val_loss = 0.0\n",
    "    for batch_idx, (X, y, Ybus, attention) in enumerate(test_loader):\n",
    "        X = X.to(torch.float)\n",
    "        y = y.to(torch.float)\n",
    "        attention = attention.to(torch.float)\n",
    "\n",
    "        pred = model(X, Ybus, attention)\n",
    "\n",
    "        loss = criterion(pred, y)\n",
    "\n",
    "        epoch_val_loss += loss.item()\n",
    "\n",
    "    epoch_val_loss /= len(test_loader)\n",
    "    val_losses.append(epoch_val_loss)\n",
    "\n",
    "    print(f\"Epoch: {epoch}, loss: {epoch_loss}, val_loss = {epoch_val_loss}\")\n",
    "    "
   ]
  },
  {
   "cell_type": "code",
   "execution_count": 36,
   "metadata": {},
   "outputs": [
    {
     "data": {
      "image/png": "[encoded data removed]",
      "text/plain": [
       "<Figure size 640x480 with 1 Axes>"
      ]
     },
     "metadata": {},
     "output_type": "display_data"
    }
   ],
   "source": [
    "plt.figure()\n",
    "plt.plot(losses, label = \"Train Loss\")\n",
    "plt.plot(val_losses, label = \"Val Loss\")\n",
    "plt.legend()\n",
    "plt.grid(True)\n",
    "plt.show()"
   ]
  },
  {
   "cell_type": "markdown",
   "metadata": {},
   "source": [
    "## Plot latest 60 epochs"
   ]
  },
  {
   "cell_type": "code",
   "execution_count": 29,
   "metadata": {},
   "outputs": [
    {
     "data": {
      "image/png": "[encoded data removed]",
      "text/plain": [
       "<Figure size 640x480 with 1 Axes>"
      ]
     },
     "metadata": {},
     "output_type": "display_data"
    }
   ],
   "source": [
    "plt.figure()\n",
    "plt.plot(losses[-40:], label = \"Train Loss\")\n",
    "plt.plot(val_losses[-40:], label = \"Val Loss\")\n",
    "plt.legend()\n",
    "plt.grid(True)\n",
    "plt.show()"
   ]
  },
  {
   "cell_type": "code",
   "execution_count": 30,
   "metadata": {},
   "outputs": [],
   "source": [
    "torch.save(model.state_dict(), \"./trained_model_ybus_attn.pt\")"
   ]
  },
  {
   "cell_type": "markdown",
   "metadata": {},
   "source": [
    "## Make predictions"
   ]
  },
  {
   "cell_type": "code",
   "execution_count": 37,
   "metadata": {},
   "outputs": [
    {
     "name": "stdout",
     "output_type": "stream",
     "text": [
      "0.01606735959649086\n"
     ]
    },
    {
     "name": "stderr",
     "output_type": "stream",
     "text": [
      "C:\\Users\\Eduardo Trabajo\\AppData\\Local\\Temp\\ipykernel_25252\\957195010.py:58: UserWarning: To copy construct from a tensor, it is recommended to use sourceTensor.clone().detach() or sourceTensor.clone().detach().requires_grad_(True), rather than torch.tensor(sourceTensor).\n",
      "  return self.X[index,:], self.y[index, :], torch.complex(torch.tensor(self.Ybuses_real[index,:]), torch.tensor(self.Ybuses_imag[index,:])), self.attention[index,:]\n"
     ]
    }
   ],
   "source": [
    "X_batch, y_batch, Ybus_batch, attention = next(iter(test_loader))\n",
    "X_batch = X_batch.to(torch.float)\n",
    "y_batch = y_batch.to(torch.float)\n",
    "attention = attention.to(torch.float)\n",
    "\n",
    "y_pred = model(X_batch, Ybus_batch, attention)\n",
    "\n",
    "loss = criterion(y_pred, y_batch)\n",
    "print(loss.item())\n",
    "\n",
    "# De-normalize\n",
    "y_pred = y_pred*test_dataset.y_std + test_dataset.y_mean\n",
    "y_batch = y_batch*test_dataset.y_std + test_dataset.y_mean"
   ]
  },
  {
   "cell_type": "code",
   "execution_count": 40,
   "metadata": {},
   "outputs": [
    {
     "data": {
      "text/plain": [
       "tensor([[1.0390, 0.2545, 1.0397, 0.2455],\n",
       "        [1.0454, 0.2829, 1.0458, 0.2792],\n",
       "        [1.0302, 0.6368, 1.0299, 0.6299],\n",
       "        [1.0407, 0.2401, 1.0411, 0.2306],\n",
       "        [1.0442, 0.1981, 1.0446, 0.1946],\n",
       "        [1.0424, 0.0836, 1.0433, 0.1101],\n",
       "        [1.0415, 0.1850, 1.0422, 0.1693],\n",
       "        [1.0408, 0.0816, 1.0412, 0.1044],\n",
       "        [1.0384, 0.1576, 1.0387, 0.1701],\n",
       "        [1.0272, 0.5105, 1.0275, 0.4992],\n",
       "        [1.0345, 0.2611, 1.0364, 0.1980],\n",
       "        [1.0415, 0.2185, 1.0429, 0.2367],\n",
       "        [1.0130, 0.5059, 1.0142, 0.5018],\n",
       "        [1.0415, 0.2478, 1.0419, 0.2387],\n",
       "        [1.0432, 0.1870, 1.0440, 0.1878],\n",
       "        [1.0455, 0.3215, 1.0461, 0.3119],\n",
       "        [1.0394, 0.1333, 1.0398, 0.1350],\n",
       "        [1.0286, 0.4902, 1.0230, 0.5014],\n",
       "        [1.0459, 0.2660, 1.0464, 0.2664],\n",
       "        [1.0372, 0.2079, 1.0363, 0.1775],\n",
       "        [1.0428, 0.1707, 1.0435, 0.1738],\n",
       "        [1.0081, 0.6964, 1.0068, 0.7099],\n",
       "        [1.0374, 0.1238, 1.0376, 0.1186],\n",
       "        [1.0417, 0.1519, 1.0421, 0.1522],\n",
       "        [1.0186, 0.5129, 1.0194, 0.5101],\n",
       "        [1.0271, 0.4490, 1.0275, 0.4333],\n",
       "        [1.0265, 0.5492, 1.0255, 0.5652],\n",
       "        [1.0384, 0.1368, 1.0390, 0.1176],\n",
       "        [1.0275, 0.4278, 1.0270, 0.4480],\n",
       "        [1.0466, 0.2744, 1.0466, 0.2750],\n",
       "        [1.0401, 0.1678, 1.0404, 0.1720],\n",
       "        [1.0419, 0.2517, 1.0423, 0.2457]], grad_fn=<CatBackward0>)"
      ]
     },
     "execution_count": 40,
     "metadata": {},
     "output_type": "execute_result"
    }
   ],
   "source": [
    "torch.concatenate([y_pred, y_batch], dim=1)"
   ]
  },
  {
   "cell_type": "code",
   "execution_count": 43,
   "metadata": {},
   "outputs": [
    {
     "data": {
      "text/plain": [
       "tensor([238973.1875, 240452.4531, 236943.6406, 239358.6250, 240160.5781,\n",
       "        239742.7656, 239539.5938, 239375.7656, 238835.7344, 236260.6562,\n",
       "        237932.2031, 239546.4219, 232984.5781, 239544.1406, 239933.2969,\n",
       "        240466.0312, 239062.0156, 236587.0469, 240546.4688, 238560.4375,\n",
       "        239847.3281, 231862.5938, 238611.3438, 239583.1250, 234275.5781,\n",
       "        236221.8281, 236097.2500, 238825.1094, 236316.7500, 240709.7188,\n",
       "        239223.0000, 239639.7031], grad_fn=<MulBackward0>)"
      ]
     },
     "execution_count": 43,
     "metadata": {},
     "output_type": "execute_result"
    }
   ],
   "source": [
    "y_pred[:,0]*230"
   ]
  },
  {
   "cell_type": "code",
   "execution_count": 45,
   "metadata": {},
   "outputs": [
    {
     "data": {
      "text/plain": [
       "tensor([239.1342, 240.5446, 236.8735, 239.4469, 240.2610, 239.9495, 239.6965,\n",
       "        239.4674, 238.9014, 236.3140, 238.3812, 239.8699, 233.2763, 239.6365,\n",
       "        240.1085, 240.5930, 239.1545, 235.2819, 240.6797, 238.3505, 239.9969,\n",
       "        231.5654, 238.6539, 239.6872, 234.4624, 236.3175, 235.8653, 238.9759,\n",
       "        236.2185, 240.7267, 239.2840, 239.7231])"
      ]
     },
     "execution_count": 45,
     "metadata": {},
     "output_type": "execute_result"
    }
   ],
   "source": [
    "y_batch[:,0]*230"
   ]
  },
  {
   "cell_type": "markdown",
   "metadata": {},
   "source": [
    "dataset = IEEE9Dataset()"
   ]
  },
  {
   "cell_type": "markdown",
   "metadata": {},
   "source": [
    "torch.tensor([y_pred, y_batch])"
   ]
  },
  {
   "cell_type": "markdown",
   "metadata": {},
   "source": []
  }
 ],
 "metadata": {
  "kernelspec": {
   "display_name": "Python 3",
   "language": "python",
   "name": "python3"
  },
  "language_info": {
   "codemirror_mode": {
    "name": "ipython",
    "version": 3
   },
   "file_extension": ".py",
   "mimetype": "text/x-python",
   "name": "python",
   "nbconvert_exporter": "python",
   "pygments_lexer": "ipython3",
   "version": "3.11.0"
  }
 },
 "nbformat": 4,
 "nbformat_minor": 2
}
