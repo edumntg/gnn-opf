{
 "cells": [
  {
   "cell_type": "code",
   "execution_count": 1,
   "metadata": {},
   "outputs": [
    {
     "name": "stdout",
     "output_type": "stream",
     "text": [
      "Using Python env installed at: c:\\Python311\n"
     ]
    }
   ],
   "source": [
    "import sys\n",
    "import os\n",
    "print(\"Using Python env installed at:\", os.path.dirname(sys.executable))\n",
    "sys.path.append(r\"C:\\\\Program Files\\\\DIgSILENT\\\\PowerFactory 2024 SP2\\\\Python\\\\3.11\")"
   ]
  },
  {
   "cell_type": "code",
   "execution_count": 2,
   "metadata": {},
   "outputs": [],
   "source": [
    "import powerfactory as pf"
   ]
  },
  {
   "cell_type": "code",
   "execution_count": 3,
   "metadata": {},
   "outputs": [],
   "source": [
    "app = pf.GetApplication()\n",
    "app"
   ]
  },
  {
   "cell_type": "code",
   "execution_count": 13,
   "metadata": {},
   "outputs": [
    {
     "ename": "ExitError",
     "evalue": "Exit with error code 7000",
     "output_type": "error",
     "traceback": [
      "\u001b[1;31m---------------------------------------------------------------------------\u001b[0m",
      "\u001b[1;31mExitError\u001b[0m                                 Traceback (most recent call last)",
      "Cell \u001b[1;32mIn[13], line 1\u001b[0m\n\u001b[1;32m----> 1\u001b[0m app \u001b[38;5;241m=\u001b[39m \u001b[43mpf\u001b[49m\u001b[38;5;241;43m.\u001b[39;49m\u001b[43mGetApplicationExt\u001b[49m\u001b[43m(\u001b[49m\u001b[43m)\u001b[49m\n",
      "\u001b[1;31mExitError\u001b[0m: Exit with error code 7000"
     ]
    }
   ],
   "source": [
    "app = pf.GetApplicationExt()"
   ]
  },
  {
   "cell_type": "code",
   "execution_count": 11,
   "metadata": {},
   "outputs": [
    {
     "data": {
      "text/plain": [
       "{'__name__': 'powerfactory',\n",
       " '__doc__': None,\n",
       " '__package__': '',\n",
       " '__loader__': <_frozen_importlib_external.ExtensionFileLoader at 0x1bc62dc5350>,\n",
       " '__spec__': ModuleSpec(name='powerfactory', loader=<_frozen_importlib_external.ExtensionFileLoader object at 0x000001BC62DC5350>, origin='C:\\\\\\\\Program Files\\\\\\\\DIgSILENT\\\\\\\\PowerFactory 2024 SP2\\\\\\\\Python\\\\\\\\3.11\\\\powerfactory.pyd'),\n",
       " 'DataObject': powerfactory.DataObject,\n",
       " 'Method': powerfactory.Method,\n",
       " 'OutputWindow': powerfactory.OutputWindow,\n",
       " 'Application': powerfactory.Application,\n",
       " 'ExitError': powerfactory.ExitError,\n",
       " '__version__': '24.0.4',\n",
       " 'GetApplication': <function powerfactory.GetApplication>,\n",
       " 'GetApplicationExt': <function powerfactory.GetApplicationExt>,\n",
       " 'GetApplicationSecured': <function powerfactory.GetApplicationSecured>,\n",
       " 'GetApplicationSecuredExt': <function powerfactory.GetApplicationSecuredExt>,\n",
       " '__file__': 'C:\\\\\\\\Program Files\\\\\\\\DIgSILENT\\\\\\\\PowerFactory 2024 SP2\\\\\\\\Python\\\\\\\\3.11\\\\powerfactory.pyd'}"
      ]
     },
     "execution_count": 11,
     "metadata": {},
     "output_type": "execute_result"
    }
   ],
   "source": [
    "vars(pf)"
   ]
  },
  {
   "cell_type": "code",
   "execution_count": null,
   "metadata": {},
   "outputs": [],
   "source": []
  }
 ],
 "metadata": {
  "kernelspec": {
   "display_name": "Python 3",
   "language": "python",
   "name": "python3"
  },
  "language_info": {
   "codemirror_mode": {
    "name": "ipython",
    "version": 3
   },
   "file_extension": ".py",
   "mimetype": "text/x-python",
   "name": "python",
   "nbconvert_exporter": "python",
   "pygments_lexer": "ipython3",
   "version": "3.11.0"
  }
 },
 "nbformat": 4,
 "nbformat_minor": 2
}
