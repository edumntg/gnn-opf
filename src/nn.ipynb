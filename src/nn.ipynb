{
 "cells": [
  {
   "cell_type": "code",
   "execution_count": 1,
   "metadata": {},
   "outputs": [],
   "source": [
    "import torch\n",
    "import torch.nn as nn\n",
    "\n",
    "import pandas as pd\n",
    "import numpy as np\n",
    "import matplotlib.pyplot as plt\n",
    "\n",
    "import torch_geometric.nn as tgm_nn\n",
    "from torch.utils.data import Dataset, DataLoader\n"
   ]
  },
  {
   "cell_type": "markdown",
   "metadata": {},
   "source": [
    "## Load data"
   ]
  },
  {
   "cell_type": "code",
   "execution_count": 4,
   "metadata": {},
   "outputs": [
    {
     "data": {
      "text/html": [
       "<div>\n",
       "<style scoped>\n",
       "    .dataframe tbody tr th:only-of-type {\n",
       "        vertical-align: middle;\n",
       "    }\n",
       "\n",
       "    .dataframe tbody tr th {\n",
       "        vertical-align: top;\n",
       "    }\n",
       "\n",
       "    .dataframe thead th {\n",
       "        text-align: right;\n",
       "    }\n",
       "</style>\n",
       "<table border=\"1\" class=\"dataframe\">\n",
       "  <thead>\n",
       "    <tr style=\"text-align: right;\">\n",
       "      <th></th>\n",
       "      <th>0</th>\n",
       "      <th>1</th>\n",
       "      <th>2</th>\n",
       "      <th>3</th>\n",
       "      <th>4</th>\n",
       "      <th>5</th>\n",
       "      <th>6</th>\n",
       "      <th>7</th>\n",
       "      <th>8</th>\n",
       "      <th>9</th>\n",
       "      <th>...</th>\n",
       "      <th>194</th>\n",
       "      <th>195</th>\n",
       "      <th>196</th>\n",
       "      <th>197</th>\n",
       "      <th>198</th>\n",
       "      <th>199</th>\n",
       "      <th>200</th>\n",
       "      <th>201</th>\n",
       "      <th>202</th>\n",
       "      <th>203</th>\n",
       "    </tr>\n",
       "  </thead>\n",
       "  <tbody>\n",
       "    <tr>\n",
       "      <th>0</th>\n",
       "      <td>0.0</td>\n",
       "      <td>0.0</td>\n",
       "      <td>1.04</td>\n",
       "      <td>0.0</td>\n",
       "      <td>0.0</td>\n",
       "      <td>0.0</td>\n",
       "      <td>1.025004</td>\n",
       "      <td>0.382556</td>\n",
       "      <td>0.0</td>\n",
       "      <td>0.0</td>\n",
       "      <td>...</td>\n",
       "      <td>5.588245</td>\n",
       "      <td>0.0</td>\n",
       "      <td>9.78427</td>\n",
       "      <td>-14.936790</td>\n",
       "      <td>1</td>\n",
       "      <td>1</td>\n",
       "      <td>1</td>\n",
       "      <td>1</td>\n",
       "      <td>1</td>\n",
       "      <td>1</td>\n",
       "    </tr>\n",
       "    <tr>\n",
       "      <th>1</th>\n",
       "      <td>0.0</td>\n",
       "      <td>0.0</td>\n",
       "      <td>1.04</td>\n",
       "      <td>0.0</td>\n",
       "      <td>0.0</td>\n",
       "      <td>0.0</td>\n",
       "      <td>1.025000</td>\n",
       "      <td>0.243693</td>\n",
       "      <td>0.0</td>\n",
       "      <td>0.0</td>\n",
       "      <td>...</td>\n",
       "      <td>5.588245</td>\n",
       "      <td>0.0</td>\n",
       "      <td>0.00000</td>\n",
       "      <td>-5.525946</td>\n",
       "      <td>1</td>\n",
       "      <td>1</td>\n",
       "      <td>1</td>\n",
       "      <td>1</td>\n",
       "      <td>1</td>\n",
       "      <td>0</td>\n",
       "    </tr>\n",
       "    <tr>\n",
       "      <th>2</th>\n",
       "      <td>0.0</td>\n",
       "      <td>0.0</td>\n",
       "      <td>1.04</td>\n",
       "      <td>0.0</td>\n",
       "      <td>0.0</td>\n",
       "      <td>0.0</td>\n",
       "      <td>1.025000</td>\n",
       "      <td>0.212868</td>\n",
       "      <td>0.0</td>\n",
       "      <td>0.0</td>\n",
       "      <td>...</td>\n",
       "      <td>5.588245</td>\n",
       "      <td>0.0</td>\n",
       "      <td>9.78427</td>\n",
       "      <td>-14.936790</td>\n",
       "      <td>1</td>\n",
       "      <td>1</td>\n",
       "      <td>1</td>\n",
       "      <td>1</td>\n",
       "      <td>1</td>\n",
       "      <td>1</td>\n",
       "    </tr>\n",
       "    <tr>\n",
       "      <th>3</th>\n",
       "      <td>0.0</td>\n",
       "      <td>0.0</td>\n",
       "      <td>1.04</td>\n",
       "      <td>0.0</td>\n",
       "      <td>0.0</td>\n",
       "      <td>0.0</td>\n",
       "      <td>1.025000</td>\n",
       "      <td>0.527527</td>\n",
       "      <td>0.0</td>\n",
       "      <td>0.0</td>\n",
       "      <td>...</td>\n",
       "      <td>5.588245</td>\n",
       "      <td>0.0</td>\n",
       "      <td>0.00000</td>\n",
       "      <td>-5.525946</td>\n",
       "      <td>1</td>\n",
       "      <td>1</td>\n",
       "      <td>1</td>\n",
       "      <td>1</td>\n",
       "      <td>1</td>\n",
       "      <td>0</td>\n",
       "    </tr>\n",
       "    <tr>\n",
       "      <th>4</th>\n",
       "      <td>0.0</td>\n",
       "      <td>0.0</td>\n",
       "      <td>1.04</td>\n",
       "      <td>0.0</td>\n",
       "      <td>0.0</td>\n",
       "      <td>0.0</td>\n",
       "      <td>1.025000</td>\n",
       "      <td>0.414343</td>\n",
       "      <td>0.0</td>\n",
       "      <td>0.0</td>\n",
       "      <td>...</td>\n",
       "      <td>5.588245</td>\n",
       "      <td>0.0</td>\n",
       "      <td>9.78427</td>\n",
       "      <td>-14.936790</td>\n",
       "      <td>1</td>\n",
       "      <td>1</td>\n",
       "      <td>1</td>\n",
       "      <td>1</td>\n",
       "      <td>1</td>\n",
       "      <td>1</td>\n",
       "    </tr>\n",
       "  </tbody>\n",
       "</table>\n",
       "<p>5 rows × 204 columns</p>\n",
       "</div>"
      ],
      "text/plain": [
       "   0    1     2    3    4    5         6         7    8    9    ...       194  \\\n",
       "0  0.0  0.0  1.04  0.0  0.0  0.0  1.025004  0.382556  0.0  0.0  ...  5.588245   \n",
       "1  0.0  0.0  1.04  0.0  0.0  0.0  1.025000  0.243693  0.0  0.0  ...  5.588245   \n",
       "2  0.0  0.0  1.04  0.0  0.0  0.0  1.025000  0.212868  0.0  0.0  ...  5.588245   \n",
       "3  0.0  0.0  1.04  0.0  0.0  0.0  1.025000  0.527527  0.0  0.0  ...  5.588245   \n",
       "4  0.0  0.0  1.04  0.0  0.0  0.0  1.025000  0.414343  0.0  0.0  ...  5.588245   \n",
       "\n",
       "   195      196        197  198  199  200  201  202  203  \n",
       "0  0.0  9.78427 -14.936790    1    1    1    1    1    1  \n",
       "1  0.0  0.00000  -5.525946    1    1    1    1    1    0  \n",
       "2  0.0  9.78427 -14.936790    1    1    1    1    1    1  \n",
       "3  0.0  0.00000  -5.525946    1    1    1    1    1    0  \n",
       "4  0.0  9.78427 -14.936790    1    1    1    1    1    1  \n",
       "\n",
       "[5 rows x 204 columns]"
      ]
     },
     "execution_count": 4,
     "metadata": {},
     "output_type": "execute_result"
    }
   ],
   "source": [
    "data = pd.read_csv('./data/ieee9iters.csv', header = None)\n",
    "data.head()"
   ]
  },
  {
   "cell_type": "markdown",
   "metadata": {},
   "source": [
    "## Split into train and test"
   ]
  },
  {
   "cell_type": "code",
   "execution_count": 5,
   "metadata": {},
   "outputs": [
    {
     "name": "stdout",
     "output_type": "stream",
     "text": [
      "Training data has 4000 samples\n",
      "Test data has 1000 samples\n"
     ]
    }
   ],
   "source": [
    "data = data.to_numpy()\n",
    "\n",
    "TRAIN_SIZE = 0.8\n",
    "train_num = int(len(data)*TRAIN_SIZE)\n",
    "\n",
    "train_data = torch.tensor(data[:train_num], dtype = torch.float)\n",
    "test_data = torch.tensor(data[train_num:], dtype = torch.float)\n",
    "\n",
    "print(\"Training data has\", len(train_data), \"samples\")\n",
    "print(\"Test data has\", len(test_data), \"samples\")"
   ]
  },
  {
   "cell_type": "markdown",
   "metadata": {},
   "source": [
    "### Because voltages vary between ~0.95 to ~1.05 but angles between ~-3.14 to ~3.14, we normalize these values so all of them range between 0 and 1"
   ]
  },
  {
   "cell_type": "code",
   "execution_count": 7,
   "metadata": {},
   "outputs": [
    {
     "ename": "NameError",
     "evalue": "name 'X' is not defined",
     "output_type": "error",
     "traceback": [
      "\u001b[1;31m---------------------------------------------------------------------------\u001b[0m",
      "\u001b[1;31mNameError\u001b[0m                                 Traceback (most recent call last)",
      "Cell \u001b[1;32mIn[7], line 14\u001b[0m\n\u001b[0;32m      9\u001b[0m     y_norm \u001b[38;5;241m=\u001b[39m (y \u001b[38;5;241m-\u001b[39m y_mean)\u001b[38;5;241m/\u001b[39my_std\n\u001b[0;32m     11\u001b[0m     \u001b[38;5;28;01mreturn\u001b[39;00m X_norm, X_mean, X_std, y_norm, y_mean, y_std\n\u001b[1;32m---> 14\u001b[0m X_norm, X_mean, X_std, y_norm, y_mean, y_std \u001b[38;5;241m=\u001b[39m normalize_dataset(\u001b[43mX\u001b[49m, y)\n",
      "\u001b[1;31mNameError\u001b[0m: name 'X' is not defined"
     ]
    }
   ],
   "source": [
    "def normalize_dataset(X, y):\n",
    "    X_std = torch.std(X, dim = 0)\n",
    "    y_std = torch.std(y, dim = 0)\n",
    "\n",
    "    X_mean = torch.mean(X, dim = 0)\n",
    "    y_mean = torch.mean(y, dim = 0)\n",
    "\n",
    "    X_norm = (X - X_mean)/X_std\n",
    "    y_norm = (y - y_mean)/y_std\n",
    "\n",
    "    return X_norm, X_mean, X_std, y_norm, y_mean, y_std\n",
    "\n",
    "\n",
    "X_norm, X_mean, X_std, y_norm, y_mean, y_std = normalize_dataset(X, y)"
   ]
  },
  {
   "cell_type": "code",
   "execution_count": 25,
   "metadata": {},
   "outputs": [],
   "source": [
    "class IEEE9Dataset(Dataset):\n",
    "    def __init__(self, raw_data):\n",
    "        super().__init__()\n",
    "\n",
    "        self.raw_data = raw_data\n",
    "        self.n_buses = 9\n",
    "\n",
    "        # Parse dataset\n",
    "        data = self.raw_data[:, :4*self.n_buses]\n",
    "        self.Ybuses_real = self.raw_data[:, 4*self.n_buses:(4*self.n_buses + self.n_buses*self.n_buses)]\n",
    "        self.Ybuses_imag = self.raw_data[:, (4*self.n_buses + self.n_buses*self.n_buses):(4*self.n_buses + self.n_buses*self.n_buses + self.n_buses*self.n_buses)]\n",
    "\n",
    "        self.attention = self.raw_data[:, (4*self.n_buses + self.n_buses*self.n_buses + self.n_buses*self.n_buses):]\n",
    "\n",
    "        self.X = torch.zeros(len(raw_data), 2*self.n_buses)\n",
    "        self.y = torch.zeros(len(raw_data), 2)\n",
    "\n",
    "        for n in range(self.n_buses):\n",
    "            P = data[:, 4*n]\n",
    "            Q = data[:, 4*n+1]\n",
    "            V = data[:, 4*n+2]\n",
    "            theta = data[:, 4*n+3]\n",
    "\n",
    "            self.X[:, 2*n] = P\n",
    "            self.X[:, 2*n+1] = Q\n",
    "            self.y[:, 0] = V\n",
    "            self.y[:, 1] = theta\n",
    "\n",
    "        # Normalize\n",
    "        X_norm, X_mean, X_std, y_norm, y_mean, y_std = self.normalize(self.X, self.y)\n",
    "        self.X = X_norm\n",
    "        self.y = y_norm\n",
    "        \n",
    "        self.X_std = X_std\n",
    "        self.X_mean = X_mean\n",
    "        self.y_std = y_std\n",
    "        self.y_mean = y_mean\n",
    "\n",
    "    def normalize(self, X, y):\n",
    "        X_std = torch.std(X, dim = 0)\n",
    "        y_std = torch.std(y, dim = 0)\n",
    "\n",
    "        X_mean = torch.mean(X, dim = 0)\n",
    "        y_mean = torch.mean(y, dim = 0)\n",
    "\n",
    "        X_norm = (X - X_mean)/X_std\n",
    "        y_norm = (y - y_mean)/y_std\n",
    "\n",
    "        X_norm = torch.where(torch.isnan(X_norm), torch.zeros_like(X_norm), X_norm)\n",
    "        y_norm = torch.where(torch.isnan(y_norm), torch.zeros_like(y_norm), y_norm)\n",
    "\n",
    "        return X_norm, X_mean, X_std, y_norm, y_mean, y_std\n",
    "\n",
    "    def __len__(self):\n",
    "        return len(self.raw_data)\n",
    "    \n",
    "    def __getitem__(self, index):\n",
    "        return self.X[index,:], self.y[index, :], torch.complex(torch.tensor(self.Ybuses_real[index,:]), torch.tensor(self.Ybuses_imag[index,:])), self.attention[index,:]"
   ]
  },
  {
   "cell_type": "code",
   "execution_count": 26,
   "metadata": {},
   "outputs": [
    {
     "name": "stdout",
     "output_type": "stream",
     "text": [
      "torch.Size([18]) torch.Size([2]) torch.Size([81]) torch.Size([6])\n",
      "tensor([ 0.0000,  0.0000,  0.0000,  0.0000,  0.0000,  0.0000,  0.0000,  0.0000,\n",
      "        -1.3755, -1.3755,  1.1720,  1.1720,  0.0000,  0.0000, -0.2686, -0.2686,\n",
      "         0.0000,  0.0000]) tensor([ 0.5058, -0.1751])\n"
     ]
    },
    {
     "name": "stderr",
     "output_type": "stream",
     "text": [
      "C:\\Users\\Eduardo Trabajo\\AppData\\Local\\Temp\\ipykernel_13996\\957195010.py:58: UserWarning: To copy construct from a tensor, it is recommended to use sourceTensor.clone().detach() or sourceTensor.clone().detach().requires_grad_(True), rather than torch.tensor(sourceTensor).\n",
      "  return self.X[index,:], self.y[index, :], torch.complex(torch.tensor(self.Ybuses_real[index,:]), torch.tensor(self.Ybuses_imag[index,:])), self.attention[index,:]\n"
     ]
    }
   ],
   "source": [
    "train_dataset = IEEE9Dataset(train_data)\n",
    "test_dataset = IEEE9Dataset(test_data)\n",
    "X, y, Ybus, attention = train_dataset[0]\n",
    "print(X.shape, y.shape, Ybus.shape, attention.shape)\n",
    "print(X, y)"
   ]
  },
  {
   "cell_type": "markdown",
   "metadata": {},
   "source": [
    "## Create DataLoaders"
   ]
  },
  {
   "cell_type": "code",
   "execution_count": 65,
   "metadata": {},
   "outputs": [],
   "source": [
    "train_loader = DataLoader(\n",
    "    dataset = train_dataset,\n",
    "    batch_size=32,\n",
    "    shuffle = True,\n",
    "    drop_last = True\n",
    ")\n",
    "\n",
    "test_loader = DataLoader(\n",
    "    dataset = test_dataset,\n",
    "    batch_size = 32,\n",
    "    shuffle = False,\n",
    "    drop_last = True\n",
    ")"
   ]
  },
  {
   "cell_type": "markdown",
   "metadata": {},
   "source": [
    "## Create GNN Model"
   ]
  },
  {
   "cell_type": "code",
   "execution_count": 76,
   "metadata": {},
   "outputs": [],
   "source": [
    "class NN(nn.Module):\n",
    "    def __init__(self, n_buses = 9):\n",
    "        super(NN, self).__init__()\n",
    "\n",
    "        self.Ybus_real_fc = nn.Linear(n_buses*n_buses, 64)\n",
    "        self.Ybus_imag_fc = nn.Linear(n_buses*n_buses, 64)\n",
    "\n",
    "        self.Ybus_real_dropout = nn.Dropout(0.1)\n",
    "        self.Ybus_imag_dropout = nn.Dropout(0.1)\n",
    "\n",
    "        #self.attention = nn.LazyLinear(64)\n",
    "\n",
    "        self.wq = nn.LazyLinear(64)\n",
    "        self.wk = nn.LazyLinear(64)\n",
    "        self.wv = nn.LazyLinear(64)\n",
    "\n",
    "        self.attn_dropout = nn.Dropout(0.1)\n",
    "        self.attn_proj = nn.LazyLinear(64)\n",
    "\n",
    "        self.fc1 = nn.Linear(2*n_buses, 64)\n",
    "        self.fc2 = nn.Linear(64, 32)\n",
    "        self.fc3 = nn.Linear(32, 2)\n",
    "\n",
    "    def forward(self, x, Ybus, attention):\n",
    "        B, F = x.shape\n",
    "        # Split Ybus into real and imag, and flatten it\n",
    "        Ybus_real = torch.real(Ybus).to(torch.float)\n",
    "        Ybus_imag = torch.imag(Ybus).to(torch.float)\n",
    "\n",
    "        #Y_weights = Ybus_real@Ybus_imag.T\n",
    "        #print(Y_weights.shape)\n",
    "        \n",
    "        Ybus_out1 = self.Ybus_real_fc(Ybus_real)\n",
    "        Ybus_out1 = self.Ybus_real_dropout(Ybus_out1)\n",
    "\n",
    "        Ybus_out2 = self.Ybus_imag_fc(Ybus_imag)\n",
    "        Ybus_out2 = self.Ybus_imag_dropout(Ybus_out2)\n",
    "\n",
    "        Q, K, V = self.wq(attention), self.wk(attention), self.wv(attention) # 32x64\n",
    "        attn_scores = Q@K.T # 32x32\n",
    "\n",
    "        d_k = K.shape[-1]\n",
    "\n",
    "        attn_weights = torch.softmax(attn_scores / d_k**0.5, dim = -1) # 32x32\n",
    "        attn_weights = self.attn_dropout(attn_weights) # 32x32\n",
    "\n",
    "        attn_weights = attn_weights @ V # 32x32 * 32x64 = 32x64\n",
    "\n",
    "        attn_proj = self.attn_proj(attn_weights)\n",
    "\n",
    "        #attention_out = self.attention(attention)\n",
    "\n",
    "        x = nn.functional.relu(self.fc1(x)) + Ybus_out1 + Ybus_out2 + attn_proj\n",
    "        #x = nn.functional.relu(self.fc1(x)) + attn_proj\n",
    "        x = nn.functional.relu(self.fc2(x))\n",
    "        return self.fc3(x)"
   ]
  },
  {
   "cell_type": "markdown",
   "metadata": {},
   "source": [
    "## Test model"
   ]
  },
  {
   "cell_type": "code",
   "execution_count": 77,
   "metadata": {},
   "outputs": [
    {
     "name": "stdout",
     "output_type": "stream",
     "text": [
      "torch.Size([32, 2])\n"
     ]
    },
    {
     "name": "stderr",
     "output_type": "stream",
     "text": [
      "c:\\Python311\\Lib\\site-packages\\torch\\nn\\modules\\lazy.py:180: UserWarning: Lazy modules are a new feature under heavy development so changes to the API or functionality can happen at any moment.\n",
      "  warnings.warn('Lazy modules are a new feature under heavy development '\n",
      "C:\\Users\\Eduardo Trabajo\\AppData\\Local\\Temp\\ipykernel_13996\\957195010.py:58: UserWarning: To copy construct from a tensor, it is recommended to use sourceTensor.clone().detach() or sourceTensor.clone().detach().requires_grad_(True), rather than torch.tensor(sourceTensor).\n",
      "  return self.X[index,:], self.y[index, :], torch.complex(torch.tensor(self.Ybuses_real[index,:]), torch.tensor(self.Ybuses_imag[index,:])), self.attention[index,:]\n"
     ]
    }
   ],
   "source": [
    "model = NN()\n",
    "X_batch, y_batch, Ybus_batch, attention = next(iter(train_loader))\n",
    "X_batch = X_batch.to(torch.float)\n",
    "y_batch = y_batch.to(torch.float)\n",
    "attention = attention.to(torch.float)\n",
    "out = model(X_batch, Ybus_batch, attention)\n",
    "print(out.shape)"
   ]
  },
  {
   "cell_type": "markdown",
   "metadata": {},
   "source": [
    "## Train Model"
   ]
  },
  {
   "cell_type": "code",
   "execution_count": 78,
   "metadata": {},
   "outputs": [
    {
     "name": "stderr",
     "output_type": "stream",
     "text": [
      "C:\\Users\\Eduardo Trabajo\\AppData\\Local\\Temp\\ipykernel_13996\\957195010.py:58: UserWarning: To copy construct from a tensor, it is recommended to use sourceTensor.clone().detach() or sourceTensor.clone().detach().requires_grad_(True), rather than torch.tensor(sourceTensor).\n",
      "  return self.X[index,:], self.y[index, :], torch.complex(torch.tensor(self.Ybuses_real[index,:]), torch.tensor(self.Ybuses_imag[index,:])), self.attention[index,:]\n"
     ]
    },
    {
     "name": "stdout",
     "output_type": "stream",
     "text": [
      "Epoch: 1, loss: 1.1073140726089477, val_loss = 0.8532555968530716\n",
      "Epoch: 2, loss: 0.8071099016666412, val_loss = 0.6544846402060601\n",
      "Epoch: 3, loss: 0.6416974468231201, val_loss = 0.5217467286894398\n",
      "Epoch: 4, loss: 0.5210160961151123, val_loss = 0.41857319877993676\n",
      "Epoch: 5, loss: 0.4316123807430267, val_loss = 0.3341750641984324\n",
      "Epoch: 6, loss: 0.34881197369098665, val_loss = 0.2769966433125158\n",
      "Epoch: 7, loss: 0.30158292067050935, val_loss = 0.23452332832159534\n",
      "Epoch: 8, loss: 0.2574176789522171, val_loss = 0.20878261664221365\n",
      "Epoch: 9, loss: 0.22836265802383424, val_loss = 0.20001921225940028\n",
      "Epoch: 10, loss: 0.20815161150693892, val_loss = 0.1734785930283608\n",
      "Epoch: 11, loss: 0.19011975526809693, val_loss = 0.1650772064683899\n",
      "Epoch: 12, loss: 0.1771997253894806, val_loss = 0.15403305006123358\n",
      "Epoch: 13, loss: 0.16319629997015, val_loss = 0.14576635942343744\n",
      "Epoch: 14, loss: 0.15483778685331345, val_loss = 0.14054578530692285\n",
      "Epoch: 15, loss: 0.14647075909376145, val_loss = 0.13417200191367057\n",
      "Epoch: 16, loss: 0.14366271257400512, val_loss = 0.13083523860381496\n",
      "Epoch: 17, loss: 0.13659130448102952, val_loss = 0.12387007835411257\n",
      "Epoch: 18, loss: 0.12896023167669773, val_loss = 0.1214045602227411\n",
      "Epoch: 19, loss: 0.12812662148475648, val_loss = 0.11860836309290701\n",
      "Epoch: 20, loss: 0.12430498296022416, val_loss = 0.11258723322422273\n",
      "Epoch: 21, loss: 0.11696442353725434, val_loss = 0.10951088440995063\n",
      "Epoch: 22, loss: 0.1135365456789732, val_loss = 0.10458356634743753\n",
      "Epoch: 23, loss: 0.11016971811652183, val_loss = 0.09992826189244947\n",
      "Epoch: 24, loss: 0.10408359834551811, val_loss = 0.09609537547634493\n",
      "Epoch: 25, loss: 0.09943724688887597, val_loss = 0.09100866461953809\n",
      "Epoch: 26, loss: 0.09830498865246773, val_loss = 0.088330335794918\n",
      "Epoch: 27, loss: 0.09253727874159813, val_loss = 0.08495112274202608\n",
      "Epoch: 28, loss: 0.09052178770303726, val_loss = 0.08097374277009119\n",
      "Epoch: 29, loss: 0.0870325298756361, val_loss = 0.07954124493464347\n",
      "Epoch: 30, loss: 0.08283579018712044, val_loss = 0.07392252440894803\n",
      "Epoch: 31, loss: 0.08077451832592487, val_loss = 0.0706898111609682\n",
      "Epoch: 32, loss: 0.07993354667723179, val_loss = 0.07033330766904738\n",
      "Epoch: 33, loss: 0.07318559363484382, val_loss = 0.06587943056177709\n",
      "Epoch: 34, loss: 0.07390848848223686, val_loss = 0.0647491940687741\n",
      "Epoch: 35, loss: 0.06986142883449793, val_loss = 0.06169823941684539\n",
      "Epoch: 36, loss: 0.06596187676489353, val_loss = 0.0610197349301269\n",
      "Epoch: 37, loss: 0.06506449486315251, val_loss = 0.05792571640303058\n",
      "Epoch: 38, loss: 0.0628038304746151, val_loss = 0.056233711300357696\n",
      "Epoch: 39, loss: 0.06100671100616455, val_loss = 0.052046229642245076\n",
      "Epoch: 40, loss: 0.058868764609098435, val_loss = 0.05150678477460338\n",
      "Epoch: 41, loss: 0.05578230121731758, val_loss = 0.05011656904412854\n",
      "Epoch: 42, loss: 0.05399505812674761, val_loss = 0.04724538867031374\n",
      "Epoch: 43, loss: 0.052411670967936516, val_loss = 0.04656768590211868\n",
      "Epoch: 44, loss: 0.051004514932632444, val_loss = 0.04538803373373324\n",
      "Epoch: 45, loss: 0.04754318254441023, val_loss = 0.04359691085353974\n",
      "Epoch: 46, loss: 0.046239918522536755, val_loss = 0.040357917216756654\n",
      "Epoch: 47, loss: 0.04507294745743275, val_loss = 0.04187990929330549\n",
      "Epoch: 48, loss: 0.043745109356939794, val_loss = 0.038327850942169464\n",
      "Epoch: 49, loss: 0.04355026576668024, val_loss = 0.0353629753414181\n",
      "Epoch: 50, loss: 0.03979475822299719, val_loss = 0.03417554008023393\n",
      "Epoch: 51, loss: 0.038732106000185014, val_loss = 0.03187139332294464\n",
      "Epoch: 52, loss: 0.03834084127098322, val_loss = 0.029227985820222284\n",
      "Epoch: 53, loss: 0.03589946864545345, val_loss = 0.02871299105425996\n",
      "Epoch: 54, loss: 0.03498407279700041, val_loss = 0.027857395369679697\n",
      "Epoch: 55, loss: 0.03466367525607347, val_loss = 0.0258378607911929\n",
      "Epoch: 56, loss: 0.03308085736632347, val_loss = 0.025051835353576368\n",
      "Epoch: 57, loss: 0.031772598415613175, val_loss = 0.023950759621877826\n",
      "Epoch: 58, loss: 0.030116254970431328, val_loss = 0.022556584298370347\n",
      "Epoch: 59, loss: 0.028748239383101462, val_loss = 0.019828961456134435\n",
      "Epoch: 60, loss: 0.02796925414353609, val_loss = 0.020163195478099007\n",
      "Epoch: 61, loss: 0.026368621349334716, val_loss = 0.018678577406512152\n",
      "Epoch: 62, loss: 0.02523001479357481, val_loss = 0.017618751483819178\n",
      "Epoch: 63, loss: 0.025118920877575876, val_loss = 0.017668944543167468\n",
      "Epoch: 64, loss: 0.024423967339098452, val_loss = 0.016511129981447614\n",
      "Epoch: 65, loss: 0.023789346382021903, val_loss = 0.015185282881101292\n",
      "Epoch: 66, loss: 0.023271658461540938, val_loss = 0.014677065875261061\n",
      "Epoch: 67, loss: 0.022654584124684334, val_loss = 0.014330310086088796\n",
      "Epoch: 68, loss: 0.02164598698168993, val_loss = 0.0151760024168799\n",
      "Epoch: 69, loss: 0.021110837500542403, val_loss = 0.012908155654346751\n",
      "Epoch: 70, loss: 0.020094366919249297, val_loss = 0.013888246079366054\n",
      "Epoch: 71, loss: 0.01977513224631548, val_loss = 0.011832902418269266\n",
      "Epoch: 72, loss: 0.01999133775010705, val_loss = 0.011984182341444877\n",
      "Epoch: 73, loss: 0.018969124641269444, val_loss = 0.011278237186131938\n",
      "Epoch: 74, loss: 0.017896155714988708, val_loss = 0.011993602353839143\n",
      "Epoch: 75, loss: 0.01900173504278064, val_loss = 0.010921245380755394\n",
      "Epoch: 76, loss: 0.017888351548463105, val_loss = 0.011699539924701375\n",
      "Epoch: 77, loss: 0.01704273434355855, val_loss = 0.010368339800005478\n",
      "Epoch: 78, loss: 0.016684302017092704, val_loss = 0.010752948391581736\n",
      "Epoch: 79, loss: 0.01686239428818226, val_loss = 0.0095934885208525\n",
      "Epoch: 80, loss: 0.015812988009303808, val_loss = 0.009720566877794842\n",
      "Epoch: 81, loss: 0.016133898507803678, val_loss = 0.010211193483443029\n",
      "Epoch: 82, loss: 0.016197361435741187, val_loss = 0.009507243611639547\n",
      "Epoch: 83, loss: 0.015680740628391504, val_loss = 0.008847876128950907\n",
      "Epoch: 84, loss: 0.015027713011950255, val_loss = 0.009587851713501638\n",
      "Epoch: 85, loss: 0.015042780295014381, val_loss = 0.008726928570878601\n",
      "Epoch: 86, loss: 0.014794906366616487, val_loss = 0.011177312845604555\n",
      "Epoch: 87, loss: 0.014588611904531716, val_loss = 0.009834091254179516\n",
      "Epoch: 88, loss: 0.014542518351227045, val_loss = 0.00820931301061665\n",
      "Epoch: 89, loss: 0.014144310407340526, val_loss = 0.008479003073467363\n",
      "Epoch: 90, loss: 0.014524198949337005, val_loss = 0.008632625655962093\n",
      "Epoch: 91, loss: 0.013671546887606382, val_loss = 0.008095471413745996\n",
      "Epoch: 92, loss: 0.013376363687217235, val_loss = 0.007832353108472401\n",
      "Epoch: 93, loss: 0.013176331032067537, val_loss = 0.007833374874486078\n",
      "Epoch: 94, loss: 0.01297297927737236, val_loss = 0.009182791541060132\n",
      "Epoch: 95, loss: 0.01259496034681797, val_loss = 0.008376253626099037\n",
      "Epoch: 96, loss: 0.012491573832929134, val_loss = 0.007958123092389396\n",
      "Epoch: 97, loss: 0.012024812564253808, val_loss = 0.007828856157439371\n",
      "Epoch: 98, loss: 0.0123104983381927, val_loss = 0.007067877746697876\n",
      "Epoch: 99, loss: 0.011797332514077425, val_loss = 0.00735176193918432\n",
      "Epoch: 100, loss: 0.012044868849217892, val_loss = 0.007536974269896746\n"
     ]
    }
   ],
   "source": [
    "criterion = nn.MSELoss()\n",
    "optimizer = torch.optim.Adam(model.parameters(), lr = 1e-4)\n",
    "\n",
    "EPOCHS = 100\n",
    "losses = []\n",
    "val_losses = []\n",
    "for epoch in range(1, EPOCHS+1):\n",
    "    epoch_loss = 0.0\n",
    "    model.train()\n",
    "    for batch_idx, (X, y, Ybus, attention) in enumerate(train_loader):\n",
    "        X = X.to(torch.float)\n",
    "        y = y.to(torch.float)\n",
    "        attention = attention.to(torch.float)\n",
    "\n",
    "        pred = model(X, Ybus, attention)\n",
    "\n",
    "        optimizer.zero_grad()\n",
    "        loss = criterion(pred, y)\n",
    "        loss.backward()\n",
    "        optimizer.step()\n",
    "\n",
    "        epoch_loss += loss.item()\n",
    "\n",
    "    epoch_loss /= len(train_loader)\n",
    "    losses.append(epoch_loss)\n",
    "\n",
    "    model.eval()\n",
    "    epoch_val_loss = 0.0\n",
    "    for batch_idx, (X, y, Ybus, attention) in enumerate(test_loader):\n",
    "        X = X.to(torch.float)\n",
    "        y = y.to(torch.float)\n",
    "        attention = attention.to(torch.float)\n",
    "\n",
    "        pred = model(X, Ybus, attention)\n",
    "\n",
    "        loss = criterion(pred, y)\n",
    "\n",
    "        epoch_val_loss += loss.item()\n",
    "\n",
    "    epoch_val_loss /= len(test_loader)\n",
    "    val_losses.append(epoch_val_loss)\n",
    "\n",
    "    print(f\"Epoch: {epoch}, loss: {epoch_loss}, val_loss = {epoch_val_loss}\")\n",
    "    "
   ]
  },
  {
   "cell_type": "code",
   "execution_count": 79,
   "metadata": {},
   "outputs": [
    {
     "data": {
      "image/png": "[encoded data removed]",
      "text/plain": [
       "<Figure size 640x480 with 1 Axes>"
      ]
     },
     "metadata": {},
     "output_type": "display_data"
    }
   ],
   "source": [
    "plt.figure()\n",
    "plt.plot(losses, label = \"Train Loss\")\n",
    "plt.plot(val_losses, label = \"Val Loss\")\n",
    "plt.legend()\n",
    "plt.grid(True)\n",
    "plt.show()"
   ]
  },
  {
   "cell_type": "markdown",
   "metadata": {},
   "source": [
    "## Plot latest 60 epochs"
   ]
  },
  {
   "cell_type": "code",
   "execution_count": 80,
   "metadata": {},
   "outputs": [
    {
     "data": {
      "image/png": "[encoded data removed]",
      "text/plain": [
       "<Figure size 640x480 with 1 Axes>"
      ]
     },
     "metadata": {},
     "output_type": "display_data"
    }
   ],
   "source": [
    "plt.figure()\n",
    "plt.plot(losses[-40:], label = \"Train Loss\")\n",
    "plt.plot(val_losses[-40:], label = \"Val Loss\")\n",
    "plt.legend()\n",
    "plt.grid(True)\n",
    "plt.show()"
   ]
  },
  {
   "cell_type": "code",
   "execution_count": 48,
   "metadata": {},
   "outputs": [],
   "source": [
    "torch.save(model.state_dict(), \"./trained_model_Attn.pt\")"
   ]
  },
  {
   "cell_type": "markdown",
   "metadata": {},
   "source": [
    "## Make predictions"
   ]
  },
  {
   "cell_type": "code",
   "execution_count": 81,
   "metadata": {},
   "outputs": [
    {
     "name": "stdout",
     "output_type": "stream",
     "text": [
      "0.0067970119416713715\n"
     ]
    },
    {
     "name": "stderr",
     "output_type": "stream",
     "text": [
      "C:\\Users\\Eduardo Trabajo\\AppData\\Local\\Temp\\ipykernel_13996\\957195010.py:58: UserWarning: To copy construct from a tensor, it is recommended to use sourceTensor.clone().detach() or sourceTensor.clone().detach().requires_grad_(True), rather than torch.tensor(sourceTensor).\n",
      "  return self.X[index,:], self.y[index, :], torch.complex(torch.tensor(self.Ybuses_real[index,:]), torch.tensor(self.Ybuses_imag[index,:])), self.attention[index,:]\n"
     ]
    }
   ],
   "source": [
    "X_batch, y_batch, Ybus_batch, attention = next(iter(test_loader))\n",
    "X_batch = X_batch.to(torch.float)\n",
    "y_batch = y_batch.to(torch.float)\n",
    "attention = attention.to(torch.float)\n",
    "\n",
    "y_pred = model(X_batch, Ybus_batch, attention)\n",
    "\n",
    "loss = criterion(y_pred, y_batch)\n",
    "print(loss.item())\n",
    "\n",
    "# De-normalize\n",
    "y_pred = y_pred*test_dataset.y_std + test_dataset.y_mean\n",
    "y_batch = y_batch*test_dataset.y_std + test_dataset.y_mean"
   ]
  },
  {
   "cell_type": "code",
   "execution_count": 82,
   "metadata": {},
   "outputs": [
    {
     "data": {
      "text/plain": [
       "tensor([[1.0399, 0.2496, 1.0397, 0.2455],\n",
       "        [1.0457, 0.2909, 1.0458, 0.2792],\n",
       "        [1.0301, 0.6274, 1.0299, 0.6299],\n",
       "        [1.0407, 0.2316, 1.0411, 0.2306],\n",
       "        [1.0439, 0.1937, 1.0446, 0.1946],\n",
       "        [1.0434, 0.1245, 1.0433, 0.1101],\n",
       "        [1.0418, 0.1707, 1.0422, 0.1693],\n",
       "        [1.0410, 0.1153, 1.0412, 0.1044],\n",
       "        [1.0381, 0.1778, 1.0387, 0.1701],\n",
       "        [1.0273, 0.5088, 1.0275, 0.4992],\n",
       "        [1.0359, 0.1830, 1.0364, 0.1980],\n",
       "        [1.0430, 0.2429, 1.0429, 0.2367],\n",
       "        [1.0145, 0.4990, 1.0142, 0.5018],\n",
       "        [1.0412, 0.2368, 1.0419, 0.2387],\n",
       "        [1.0434, 0.1893, 1.0440, 0.1878],\n",
       "        [1.0460, 0.3156, 1.0461, 0.3119],\n",
       "        [1.0404, 0.1533, 1.0398, 0.1350],\n",
       "        [1.0254, 0.5153, 1.0230, 0.5014],\n",
       "        [1.0455, 0.2723, 1.0464, 0.2664],\n",
       "        [1.0368, 0.1949, 1.0363, 0.1775],\n",
       "        [1.0430, 0.1716, 1.0435, 0.1738],\n",
       "        [1.0101, 0.6853, 1.0068, 0.7099],\n",
       "        [1.0383, 0.1338, 1.0376, 0.1186],\n",
       "        [1.0420, 0.1530, 1.0421, 0.1522],\n",
       "        [1.0196, 0.5144, 1.0194, 0.5101],\n",
       "        [1.0277, 0.4228, 1.0275, 0.4333],\n",
       "        [1.0264, 0.5810, 1.0255, 0.5652],\n",
       "        [1.0391, 0.1217, 1.0390, 0.1176],\n",
       "        [1.0270, 0.4497, 1.0270, 0.4480],\n",
       "        [1.0463, 0.2849, 1.0466, 0.2750],\n",
       "        [1.0402, 0.1790, 1.0404, 0.1720],\n",
       "        [1.0421, 0.2468, 1.0423, 0.2457]], grad_fn=<CatBackward0>)"
      ]
     },
     "execution_count": 82,
     "metadata": {},
     "output_type": "execute_result"
    }
   ],
   "source": [
    "torch.concatenate([y_pred, y_batch], dim=1)"
   ]
  },
  {
   "cell_type": "code",
   "execution_count": 83,
   "metadata": {},
   "outputs": [
    {
     "data": {
      "text/plain": [
       "tensor([239.1845, 240.5148, 236.9150, 239.3557, 240.0974, 239.9775, 239.6219,\n",
       "        239.4312, 238.7663, 236.2679, 238.2458, 239.8931, 233.3318, 239.4812,\n",
       "        239.9923, 240.5885, 239.2870, 235.8408, 240.4656, 238.4620, 239.8802,\n",
       "        232.3333, 238.8051, 239.6547, 234.5152, 236.3737, 236.0814, 238.9919,\n",
       "        236.2135, 240.6590, 239.2440, 239.6873], grad_fn=<MulBackward0>)"
      ]
     },
     "execution_count": 83,
     "metadata": {},
     "output_type": "execute_result"
    }
   ],
   "source": [
    "y_pred[:,0]*230"
   ]
  },
  {
   "cell_type": "code",
   "execution_count": 84,
   "metadata": {},
   "outputs": [
    {
     "data": {
      "text/plain": [
       "tensor([239.1342, 240.5446, 236.8735, 239.4469, 240.2610, 239.9495, 239.6965,\n",
       "        239.4674, 238.9014, 236.3140, 238.3812, 239.8699, 233.2763, 239.6365,\n",
       "        240.1085, 240.5930, 239.1545, 235.2819, 240.6797, 238.3505, 239.9969,\n",
       "        231.5654, 238.6539, 239.6872, 234.4624, 236.3175, 235.8653, 238.9759,\n",
       "        236.2185, 240.7267, 239.2840, 239.7231])"
      ]
     },
     "execution_count": 84,
     "metadata": {},
     "output_type": "execute_result"
    }
   ],
   "source": [
    "y_batch[:,0]*230"
   ]
  },
  {
   "cell_type": "markdown",
   "metadata": {},
   "source": [
    "dataset = IEEE9Dataset()"
   ]
  },
  {
   "cell_type": "markdown",
   "metadata": {},
   "source": [
    "torch.tensor([y_pred, y_batch])"
   ]
  },
  {
   "cell_type": "markdown",
   "metadata": {},
   "source": []
  }
 ],
 "metadata": {
  "kernelspec": {
   "display_name": "Python 3",
   "language": "python",
   "name": "python3"
  },
  "language_info": {
   "codemirror_mode": {
    "name": "ipython",
    "version": 3
   },
   "file_extension": ".py",
   "mimetype": "text/x-python",
   "name": "python",
   "nbconvert_exporter": "python",
   "pygments_lexer": "ipython3",
   "version": "3.11.0"
  }
 },
 "nbformat": 4,
 "nbformat_minor": 2
}
